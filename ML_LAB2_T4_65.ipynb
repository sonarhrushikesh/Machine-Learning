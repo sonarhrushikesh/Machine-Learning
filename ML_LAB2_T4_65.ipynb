{
 "cells": [
  {
   "cell_type": "markdown",
   "id": "b4e84748",
   "metadata": {},
   "source": [
    "# LAB 2 : Data Preprocessing Tools"
   ]
  },
  {
   "cell_type": "code",
   "execution_count": 2,
   "id": "d00f2d76",
   "metadata": {},
   "outputs": [],
   "source": [
    "# import libraries\n",
    "import numpy as np\n",
    "import pandas as pd\n",
    "import matplotlib.pyplot as plt"
   ]
  },
  {
   "cell_type": "markdown",
   "id": "f923ad7e",
   "metadata": {},
   "source": [
    "## Import dataset"
   ]
  },
  {
   "cell_type": "code",
   "execution_count": 3,
   "id": "3fabe5f7",
   "metadata": {},
   "outputs": [],
   "source": [
    "# import dataset\n",
    "dataset = pd.read_csv('titanic_dataset preprocess.csv')"
   ]
  },
  {
   "cell_type": "markdown",
   "id": "81c02fc2",
   "metadata": {},
   "source": [
    "## EDA Steps"
   ]
  },
  {
   "cell_type": "code",
   "execution_count": 4,
   "id": "534d1293",
   "metadata": {},
   "outputs": [
    {
     "data": {
      "text/html": [
       "<div>\n",
       "<style scoped>\n",
       "    .dataframe tbody tr th:only-of-type {\n",
       "        vertical-align: middle;\n",
       "    }\n",
       "\n",
       "    .dataframe tbody tr th {\n",
       "        vertical-align: top;\n",
       "    }\n",
       "\n",
       "    .dataframe thead th {\n",
       "        text-align: right;\n",
       "    }\n",
       "</style>\n",
       "<table border=\"1\" class=\"dataframe\">\n",
       "  <thead>\n",
       "    <tr style=\"text-align: right;\">\n",
       "      <th></th>\n",
       "      <th>sex</th>\n",
       "      <th>pclass</th>\n",
       "      <th>age</th>\n",
       "      <th>survived</th>\n",
       "    </tr>\n",
       "  </thead>\n",
       "  <tbody>\n",
       "    <tr>\n",
       "      <th>0</th>\n",
       "      <td>male</td>\n",
       "      <td>3</td>\n",
       "      <td>22.0</td>\n",
       "      <td>0</td>\n",
       "    </tr>\n",
       "    <tr>\n",
       "      <th>1</th>\n",
       "      <td>male</td>\n",
       "      <td>3</td>\n",
       "      <td>35.0</td>\n",
       "      <td>0</td>\n",
       "    </tr>\n",
       "    <tr>\n",
       "      <th>2</th>\n",
       "      <td>male</td>\n",
       "      <td>3</td>\n",
       "      <td>NaN</td>\n",
       "      <td>0</td>\n",
       "    </tr>\n",
       "    <tr>\n",
       "      <th>3</th>\n",
       "      <td>female</td>\n",
       "      <td>3</td>\n",
       "      <td>14.0</td>\n",
       "      <td>0</td>\n",
       "    </tr>\n",
       "    <tr>\n",
       "      <th>4</th>\n",
       "      <td>female</td>\n",
       "      <td>2</td>\n",
       "      <td>55.0</td>\n",
       "      <td>1</td>\n",
       "    </tr>\n",
       "  </tbody>\n",
       "</table>\n",
       "</div>"
      ],
      "text/plain": [
       "      sex  pclass   age  survived\n",
       "0    male       3  22.0         0\n",
       "1    male       3  35.0         0\n",
       "2    male       3   NaN         0\n",
       "3  female       3  14.0         0\n",
       "4  female       2  55.0         1"
      ]
     },
     "execution_count": 4,
     "metadata": {},
     "output_type": "execute_result"
    }
   ],
   "source": [
    "dataset.head()"
   ]
  },
  {
   "cell_type": "code",
   "execution_count": 5,
   "id": "c195d4fc",
   "metadata": {},
   "outputs": [
    {
     "data": {
      "text/plain": [
       "(65, 4)"
      ]
     },
     "execution_count": 5,
     "metadata": {},
     "output_type": "execute_result"
    }
   ],
   "source": [
    "# Dimension of data\n",
    "dataset.shape"
   ]
  },
  {
   "cell_type": "code",
   "execution_count": 6,
   "id": "4ab78579",
   "metadata": {},
   "outputs": [
    {
     "data": {
      "text/plain": [
       "Index(['sex', 'pclass', 'age', 'survived'], dtype='object')"
      ]
     },
     "execution_count": 6,
     "metadata": {},
     "output_type": "execute_result"
    }
   ],
   "source": [
    "# Attributes of dataset\n",
    "dataset.columns"
   ]
  },
  {
   "cell_type": "code",
   "execution_count": 7,
   "id": "8ced9112",
   "metadata": {},
   "outputs": [
    {
     "name": "stdout",
     "output_type": "stream",
     "text": [
      "<class 'pandas.core.frame.DataFrame'>\n",
      "RangeIndex: 65 entries, 0 to 64\n",
      "Data columns (total 4 columns):\n",
      " #   Column    Non-Null Count  Dtype  \n",
      "---  ------    --------------  -----  \n",
      " 0   sex       65 non-null     object \n",
      " 1   pclass    65 non-null     int64  \n",
      " 2   age       42 non-null     float64\n",
      " 3   survived  65 non-null     int64  \n",
      "dtypes: float64(1), int64(2), object(1)\n",
      "memory usage: 2.2+ KB\n"
     ]
    }
   ],
   "source": [
    "# info of dataset\n",
    "dataset.info()"
   ]
  },
  {
   "cell_type": "code",
   "execution_count": 8,
   "id": "08e55510",
   "metadata": {},
   "outputs": [
    {
     "data": {
      "text/html": [
       "<div>\n",
       "<style scoped>\n",
       "    .dataframe tbody tr th:only-of-type {\n",
       "        vertical-align: middle;\n",
       "    }\n",
       "\n",
       "    .dataframe tbody tr th {\n",
       "        vertical-align: top;\n",
       "    }\n",
       "\n",
       "    .dataframe thead th {\n",
       "        text-align: right;\n",
       "    }\n",
       "</style>\n",
       "<table border=\"1\" class=\"dataframe\">\n",
       "  <thead>\n",
       "    <tr style=\"text-align: right;\">\n",
       "      <th></th>\n",
       "      <th>pclass</th>\n",
       "      <th>age</th>\n",
       "      <th>survived</th>\n",
       "    </tr>\n",
       "  </thead>\n",
       "  <tbody>\n",
       "    <tr>\n",
       "      <th>count</th>\n",
       "      <td>65.000000</td>\n",
       "      <td>42.000000</td>\n",
       "      <td>65.000000</td>\n",
       "    </tr>\n",
       "    <tr>\n",
       "      <th>mean</th>\n",
       "      <td>2.430769</td>\n",
       "      <td>28.186429</td>\n",
       "      <td>0.369231</td>\n",
       "    </tr>\n",
       "    <tr>\n",
       "      <th>std</th>\n",
       "      <td>0.828576</td>\n",
       "      <td>16.937294</td>\n",
       "      <td>0.486352</td>\n",
       "    </tr>\n",
       "    <tr>\n",
       "      <th>min</th>\n",
       "      <td>1.000000</td>\n",
       "      <td>0.830000</td>\n",
       "      <td>0.000000</td>\n",
       "    </tr>\n",
       "    <tr>\n",
       "      <th>25%</th>\n",
       "      <td>2.000000</td>\n",
       "      <td>19.000000</td>\n",
       "      <td>0.000000</td>\n",
       "    </tr>\n",
       "    <tr>\n",
       "      <th>50%</th>\n",
       "      <td>3.000000</td>\n",
       "      <td>26.000000</td>\n",
       "      <td>0.000000</td>\n",
       "    </tr>\n",
       "    <tr>\n",
       "      <th>75%</th>\n",
       "      <td>3.000000</td>\n",
       "      <td>34.500000</td>\n",
       "      <td>1.000000</td>\n",
       "    </tr>\n",
       "    <tr>\n",
       "      <th>max</th>\n",
       "      <td>3.000000</td>\n",
       "      <td>71.000000</td>\n",
       "      <td>1.000000</td>\n",
       "    </tr>\n",
       "  </tbody>\n",
       "</table>\n",
       "</div>"
      ],
      "text/plain": [
       "          pclass        age   survived\n",
       "count  65.000000  42.000000  65.000000\n",
       "mean    2.430769  28.186429   0.369231\n",
       "std     0.828576  16.937294   0.486352\n",
       "min     1.000000   0.830000   0.000000\n",
       "25%     2.000000  19.000000   0.000000\n",
       "50%     3.000000  26.000000   0.000000\n",
       "75%     3.000000  34.500000   1.000000\n",
       "max     3.000000  71.000000   1.000000"
      ]
     },
     "execution_count": 8,
     "metadata": {},
     "output_type": "execute_result"
    }
   ],
   "source": [
    "# descriptive statastics for numerical features\n",
    "dataset.describe()"
   ]
  },
  {
   "cell_type": "code",
   "execution_count": 9,
   "id": "919b0457",
   "metadata": {},
   "outputs": [
    {
     "data": {
      "text/html": [
       "<div>\n",
       "<style scoped>\n",
       "    .dataframe tbody tr th:only-of-type {\n",
       "        vertical-align: middle;\n",
       "    }\n",
       "\n",
       "    .dataframe tbody tr th {\n",
       "        vertical-align: top;\n",
       "    }\n",
       "\n",
       "    .dataframe thead th {\n",
       "        text-align: right;\n",
       "    }\n",
       "</style>\n",
       "<table border=\"1\" class=\"dataframe\">\n",
       "  <thead>\n",
       "    <tr style=\"text-align: right;\">\n",
       "      <th></th>\n",
       "      <th>sex</th>\n",
       "    </tr>\n",
       "  </thead>\n",
       "  <tbody>\n",
       "    <tr>\n",
       "      <th>count</th>\n",
       "      <td>65</td>\n",
       "    </tr>\n",
       "    <tr>\n",
       "      <th>unique</th>\n",
       "      <td>2</td>\n",
       "    </tr>\n",
       "    <tr>\n",
       "      <th>top</th>\n",
       "      <td>male</td>\n",
       "    </tr>\n",
       "    <tr>\n",
       "      <th>freq</th>\n",
       "      <td>43</td>\n",
       "    </tr>\n",
       "  </tbody>\n",
       "</table>\n",
       "</div>"
      ],
      "text/plain": [
       "         sex\n",
       "count     65\n",
       "unique     2\n",
       "top     male\n",
       "freq      43"
      ]
     },
     "execution_count": 9,
     "metadata": {},
     "output_type": "execute_result"
    }
   ],
   "source": [
    "# descriptive statastics for categorical features\n",
    "dataset.describe(include= 'object')"
   ]
  },
  {
   "cell_type": "markdown",
   "id": "03dd0eee",
   "metadata": {},
   "source": [
    "## Preprocessing Steps"
   ]
  },
  {
   "cell_type": "markdown",
   "id": "ff5cb7eb",
   "metadata": {},
   "source": [
    "### Step 1 : Divide dataframe into independent variable/input and dependent / output Featutres"
   ]
  },
  {
   "cell_type": "code",
   "execution_count": 10,
   "id": "153cf9aa",
   "metadata": {},
   "outputs": [],
   "source": [
    "# Selecting data using iloc based on integer positions\n",
    "X = data_set.iloc [ : , : -1 ]\n",
    "Y = data_set.iloc [ : , -1]"
   ]
  },
  {
   "cell_type": "markdown",
   "id": "5a673218",
   "metadata": {},
   "source": [
    "### Step 2: Handle the missing values in Dataset"
   ]
  },
  {
   "cell_type": "code",
   "execution_count": 13,
   "id": "99db37ac",
   "metadata": {},
   "outputs": [],
   "source": [
    "from sklearn.impute import SimpleImputer\n",
    "imputer = SimpleImputer(missing_values = np.nan,\n",
    "                       strategy = 'mean')\n",
    "imputer.fit(X[['age']])\n",
    "X[['age']] = imputer.transform(X[['age']])"
   ]
  },
  {
   "cell_type": "code",
   "execution_count": 14,
   "id": "697e6a36",
   "metadata": {},
   "outputs": [
    {
     "name": "stdout",
     "output_type": "stream",
     "text": [
      "       sex  pclass        age\n",
      "0     male       3  22.000000\n",
      "1     male       3  35.000000\n",
      "2     male       3  28.186429\n",
      "3   female       3  14.000000\n",
      "4   female       2  55.000000\n",
      "..     ...     ...        ...\n",
      "60    male       3  28.186429\n",
      "61    male       1  71.000000\n",
      "62    male       1  23.000000\n",
      "63    male       3  28.186429\n",
      "64    male       1  21.000000\n",
      "\n",
      "[65 rows x 3 columns]\n"
     ]
    }
   ],
   "source": [
    "print(X)"
   ]
  },
  {
   "cell_type": "markdown",
   "id": "1e2d1beb",
   "metadata": {},
   "source": [
    "### Step 3 : Encoding categorical data"
   ]
  },
  {
   "cell_type": "code",
   "execution_count": 15,
   "id": "7a2cfe8c",
   "metadata": {},
   "outputs": [
    {
     "data": {
      "text/plain": [
       "sex\n",
       "male      43\n",
       "female    22\n",
       "Name: count, dtype: int64"
      ]
     },
     "execution_count": 15,
     "metadata": {},
     "output_type": "execute_result"
    }
   ],
   "source": [
    "dataset['sex'].value_counts()"
   ]
  },
  {
   "cell_type": "markdown",
   "id": "e53130f0",
   "metadata": {},
   "source": [
    "**A. Encoding the Independent Variable (i/p feature/X)**"
   ]
  },
  {
   "cell_type": "code",
   "execution_count": 26,
   "id": "1900c4af-cdb6-47eb-8fc6-22feabd78592",
   "metadata": {},
   "outputs": [],
   "source": [
    "from sklearn.preprocessing import LabelEncoder\n",
    "\n",
    "# Assuming 'sex' is the name of the column in your DataFrame X\n",
    "label_encoder = LabelEncoder()\n",
    "X['sex'] = label_encoder.fit_transform(X['sex'])"
   ]
  },
  {
   "cell_type": "code",
   "execution_count": 32,
   "id": "0d1b1cdd-ae6f-44ce-be68-470f4a29a7a5",
   "metadata": {},
   "outputs": [
    {
     "name": "stdout",
     "output_type": "stream",
     "text": [
      "    sex  pclass        age\n",
      "0     1       3  22.000000\n",
      "1     1       3  35.000000\n",
      "2     1       3  28.186429\n",
      "3     0       3  14.000000\n",
      "4     0       2  55.000000\n",
      "..  ...     ...        ...\n",
      "60    1       3  28.186429\n",
      "61    1       1  71.000000\n",
      "62    1       1  23.000000\n",
      "63    1       3  28.186429\n",
      "64    1       1  21.000000\n",
      "\n",
      "[65 rows x 3 columns]\n"
     ]
    }
   ],
   "source": [
    "print(X)"
   ]
  },
  {
   "cell_type": "markdown",
   "id": "9a4e41fa",
   "metadata": {},
   "source": [
    "### Step 4 : Splitting Data into Training and Testing"
   ]
  },
  {
   "cell_type": "code",
   "execution_count": 28,
   "id": "ba27bc90",
   "metadata": {},
   "outputs": [],
   "source": [
    "from sklearn.model_selection import train_test_split\n",
    "\n",
    "X_train,X_test,Y_train,Y_test = train_test_split(X,Y,\n",
    "                                        test_size = 0.3,\n",
    "                                    random_state =1)"
   ]
  },
  {
   "cell_type": "markdown",
   "id": "d3b7f440",
   "metadata": {},
   "source": [
    "### Step 5 : Feature Scaling"
   ]
  },
  {
   "cell_type": "code",
   "execution_count": 37,
   "id": "9f1969ba",
   "metadata": {},
   "outputs": [],
   "source": [
    "from sklearn.preprocessing import StandardScaler\n",
    "\n",
    "# Assuming 'sex', 'pclass', and 'age' are the columns in your DataFrame\n",
    "scaler = StandardScaler()\n",
    "X_scaled = scaler.fit_transform(X[['sex', 'pclass', 'age']])\n",
    "\n",
    "# Replace the original columns with the scaled values\n",
    "X[['sex', 'pclass', 'age']] = X_scaled\n"
   ]
  }
 ],
 "metadata": {
  "kernelspec": {
   "display_name": "Python 3 (ipykernel)",
   "language": "python",
   "name": "python3"
  },
  "language_info": {
   "codemirror_mode": {
    "name": "ipython",
    "version": 3
   },
   "file_extension": ".py",
   "mimetype": "text/x-python",
   "name": "python",
   "nbconvert_exporter": "python",
   "pygments_lexer": "ipython3",
   "version": "3.12.0"
  }
 },
 "nbformat": 4,
 "nbformat_minor": 5
}
